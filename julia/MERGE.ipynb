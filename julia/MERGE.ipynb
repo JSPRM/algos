{
 "cells": [
  {
   "cell_type": "code",
   "execution_count": 2,
   "metadata": {},
   "outputs": [],
   "source": [
    "using Printf, CSV, CSVFiles, JuliaDB, Distributions, DataFrames, Plots, PyCall, HTTP, ZipFile, Logging, TerminalLoggers, Dates, XLSX, ExcelReaders, StatsBase"
   ]
  },
  {
   "cell_type": "code",
   "execution_count": 33,
   "metadata": {},
   "outputs": [
    {
     "data": {
      "text/plain": [
       "mergeSort (generic function with 2 methods)"
      ]
     },
     "execution_count": 33,
     "metadata": {},
     "output_type": "execute_result"
    }
   ],
   "source": [
    "function mergeSort(arr=[])\n",
    "    if size(arr, 1)>1\n",
    "        mitad = size(arr, 1) ÷ 2\n",
    "        L = arr[1:mitad]\n",
    "        R = arr[mitad+1:end]\n",
    "        \n",
    "        mergeSort(L)\n",
    "        mergeSort(R)\n",
    "        i,j,k=1,1,1\n",
    "        \n",
    "        while i<=size(L, 1) && j<=size(R, 1)\n",
    "            if L[i] <= R[j]\n",
    "                arr[k] = L[i]\n",
    "                i += 1\n",
    "            else\n",
    "                arr[k] = R[j]\n",
    "                j += 1\n",
    "            end\n",
    "            k +=1\n",
    "        end\n",
    "        \n",
    "        while i<=size(L, 1)\n",
    "            arr[k] = L[i]\n",
    "            i += 1\n",
    "            k += 1\n",
    "        end\n",
    "        \n",
    "        while j<=size(R, 1)\n",
    "            arr[k] = R[j]\n",
    "            j += 1\n",
    "            k += 1\n",
    "        end        \n",
    "    end\n",
    "end"
   ]
  },
  {
   "cell_type": "code",
   "execution_count": 32,
   "metadata": {},
   "outputs": [
    {
     "name": "stdout",
     "output_type": "stream",
     "text": [
      "[17, 20, 26, 31, 44, 54, 55, 77, 93]\n"
     ]
    }
   ],
   "source": [
    "arr=[54,26,93,17,77,31,44,55,20]\n",
    "mergeSort(arr)\n",
    "println(arr)\n"
   ]
  },
  {
   "cell_type": "code",
   "execution_count": 7,
   "metadata": {},
   "outputs": [
    {
     "name": "stdout",
     "output_type": "stream",
     "text": [
      "1\n"
     ]
    }
   ],
   "source": [
    "test = [3]\n",
    "println(size(test,1))\n",
    "\n"
   ]
  }
 ],
 "metadata": {
  "kernelspec": {
   "display_name": "Julia 1.5.3",
   "language": "julia",
   "name": "julia-1.5"
  },
  "language_info": {
   "file_extension": ".jl",
   "mimetype": "application/julia",
   "name": "julia",
   "version": "1.5.3"
  }
 },
 "nbformat": 4,
 "nbformat_minor": 4
}
