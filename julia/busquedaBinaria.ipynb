{
 "cells": [
  {
   "cell_type": "code",
   "execution_count": 111,
   "metadata": {},
   "outputs": [],
   "source": [
    "using Printf, CSV, CSVFiles, JuliaDB, Distributions, DataFrames, Plots, PyCall, HTTP, ZipFile, Logging, TerminalLoggers, Dates, XLSX, ExcelReaders, StatsBase, BenchmarkTools"
   ]
  },
  {
   "cell_type": "code",
   "execution_count": 125,
   "metadata": {},
   "outputs": [
    {
     "data": {
      "text/plain": [
       "mergeSort (generic function with 2 methods)"
      ]
     },
     "execution_count": 125,
     "metadata": {},
     "output_type": "execute_result"
    }
   ],
   "source": [
    "function mergeSort(arr=[])\n",
    "    if size(arr, 1)>1\n",
    "        mitad = size(arr, 1) ÷ 2\n",
    "        L = arr[1:mitad]\n",
    "        R = arr[mitad+1:end]\n",
    "        \n",
    "        mergeSort(L)\n",
    "        mergeSort(R)\n",
    "        i,j,k=1,1,1\n",
    "        \n",
    "        while i<=size(L, 1) && j<=size(R, 1)\n",
    "            if L[i] <= R[j]\n",
    "                arr[k] = L[i]\n",
    "                i += 1\n",
    "            else\n",
    "                arr[k] = R[j]\n",
    "                j += 1\n",
    "            end\n",
    "            k +=1\n",
    "        end\n",
    "        \n",
    "        while i<=size(L, 1)\n",
    "            arr[k] = L[i]\n",
    "            i += 1\n",
    "            k += 1\n",
    "        end\n",
    "        \n",
    "        while j<=size(R, 1)\n",
    "            arr[k] = R[j]\n",
    "            j += 1\n",
    "            k += 1\n",
    "        end        \n",
    "    end\n",
    "end"
   ]
  },
  {
   "cell_type": "code",
   "execution_count": null,
   "metadata": {},
   "outputs": [],
   "source": [
    "test1=[54,26,93,17,77,31,44,55,20]\n",
    "mergeSort(test1)\n",
    "println(tets1)"
   ]
  },
  {
   "cell_type": "code",
   "execution_count": 115,
   "metadata": {},
   "outputs": [
    {
     "data": {
      "text/plain": [
       "busquedaBinaria (generic function with 3 methods)"
      ]
     },
     "execution_count": 115,
     "metadata": {},
     "output_type": "execute_result"
    }
   ],
   "source": [
    "function busquedaBinaria(arr,x,i=0,j=size(arr,1))\n",
    "    medio = (i+j)÷2\n",
    "    if arr[medio]==x\n",
    "        return medio\n",
    "    elseif x<arr[medio] && i<medio\n",
    "        busquedaBinaria(arr,x,i,medio-1)\n",
    "    elseif x>arr[medio] && j>medio\n",
    "        busquedaBinaria(arr,x,medio+1,j)\n",
    "    else\n",
    "        return 0\n",
    "    end\n",
    "end"
   ]
  },
  {
   "cell_type": "code",
   "execution_count": 116,
   "metadata": {
    "scrolled": true
   },
   "outputs": [
    {
     "data": {
      "text/plain": [
       "4"
      ]
     },
     "execution_count": 116,
     "metadata": {},
     "output_type": "execute_result"
    }
   ],
   "source": [
    "test = [17, 20, 26, 31, 44, 54, 55, 77, 93]\n",
    "busquedaBinaria(test,31)"
   ]
  },
  {
   "cell_type": "code",
   "execution_count": 117,
   "metadata": {},
   "outputs": [
    {
     "data": {
      "text/plain": [
       "factorialR (generic function with 2 methods)"
      ]
     },
     "execution_count": 117,
     "metadata": {},
     "output_type": "execute_result"
    }
   ],
   "source": [
    "function factorialR(n=0)\n",
    "    if n == 0\n",
    "        return 1\n",
    "    else\n",
    "        return n * factorial(n-1)\n",
    "    end\n",
    "end"
   ]
  },
  {
   "cell_type": "code",
   "execution_count": 118,
   "metadata": {},
   "outputs": [
    {
     "data": {
      "text/plain": [
       "720"
      ]
     },
     "execution_count": 118,
     "metadata": {},
     "output_type": "execute_result"
    }
   ],
   "source": [
    "factorialR(6)"
   ]
  },
  {
   "cell_type": "code",
   "execution_count": 119,
   "metadata": {},
   "outputs": [
    {
     "data": {
      "text/plain": [
       "factorialI (generic function with 2 methods)"
      ]
     },
     "execution_count": 119,
     "metadata": {},
     "output_type": "execute_result"
    }
   ],
   "source": [
    "function factorialI(n=1)\n",
    "    fac=1\n",
    "    for i in 1:n\n",
    "        fac*=i\n",
    "    end\n",
    "    return fac\n",
    "end"
   ]
  },
  {
   "cell_type": "code",
   "execution_count": 120,
   "metadata": {},
   "outputs": [
    {
     "data": {
      "text/plain": [
       "720"
      ]
     },
     "execution_count": 120,
     "metadata": {},
     "output_type": "execute_result"
    }
   ],
   "source": [
    "factorialI(6)"
   ]
  },
  {
   "cell_type": "code",
   "execution_count": 121,
   "metadata": {},
   "outputs": [
    {
     "data": {
      "text/plain": [
       "fibonacciR (generic function with 2 methods)"
      ]
     },
     "execution_count": 121,
     "metadata": {},
     "output_type": "execute_result"
    }
   ],
   "source": [
    "function fibonacciR(n=0)\n",
    "    if n==0\n",
    "        return [0]\n",
    "    elseif n==1\n",
    "        return [0,1]\n",
    "    end\n",
    "    r=fibonacci(n-1)\n",
    "    return vcat(r,r[n] + r[n-1])\n",
    "end"
   ]
  },
  {
   "cell_type": "code",
   "execution_count": 122,
   "metadata": {},
   "outputs": [
    {
     "data": {
      "text/plain": [
       "17-element Array{Int64,1}:\n",
       "   0\n",
       "   1\n",
       "   1\n",
       "   2\n",
       "   3\n",
       "   5\n",
       "   8\n",
       "  13\n",
       "  21\n",
       "  34\n",
       "  55\n",
       "  89\n",
       " 144\n",
       " 233\n",
       " 377\n",
       " 610\n",
       " 987"
      ]
     },
     "execution_count": 122,
     "metadata": {},
     "output_type": "execute_result"
    }
   ],
   "source": [
    "fibonacciR(16)\n"
   ]
  },
  {
   "cell_type": "code",
   "execution_count": 123,
   "metadata": {},
   "outputs": [
    {
     "data": {
      "text/plain": [
       "fibonacciI (generic function with 2 methods)"
      ]
     },
     "execution_count": 123,
     "metadata": {},
     "output_type": "execute_result"
    }
   ],
   "source": [
    "function fibonacciI(n=0)\n",
    "    r=[0]\n",
    "    if n== 0\n",
    "        return r\n",
    "    else\n",
    "        x,y=0,1\n",
    "        for i in 1:n-1\n",
    "            push!(r,y)\n",
    "            z=x+y\n",
    "            x=y\n",
    "            y=z\n",
    "        end\n",
    "        return vcat(r,y)\n",
    "    end\n",
    "    \n",
    "end\n"
   ]
  },
  {
   "cell_type": "code",
   "execution_count": 124,
   "metadata": {},
   "outputs": [
    {
     "data": {
      "text/plain": [
       "17-element Array{Int64,1}:\n",
       "   0\n",
       "   1\n",
       "   1\n",
       "   2\n",
       "   3\n",
       "   5\n",
       "   8\n",
       "  13\n",
       "  21\n",
       "  34\n",
       "  55\n",
       "  89\n",
       " 144\n",
       " 233\n",
       " 377\n",
       " 610\n",
       " 987"
      ]
     },
     "execution_count": 124,
     "metadata": {},
     "output_type": "execute_result"
    }
   ],
   "source": [
    "fibonacciI(16)"
   ]
  }
 ],
 "metadata": {
  "kernelspec": {
   "display_name": "Julia 1.5.3",
   "language": "julia",
   "name": "julia-1.5"
  },
  "language_info": {
   "file_extension": ".jl",
   "mimetype": "application/julia",
   "name": "julia",
   "version": "1.5.3"
  }
 },
 "nbformat": 4,
 "nbformat_minor": 4
}
